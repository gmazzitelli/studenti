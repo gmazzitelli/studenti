{
  "nbformat": 4,
  "nbformat_minor": 0,
  "metadata": {
    "kernelspec": {
      "name": "python2",
      "display_name": "Python 2"
    },
    "colab": {
      "name": "read-image-root-py2.ipynb",
      "provenance": [],
      "include_colab_link": true
    }
  },
  "cells": [
    {
      "cell_type": "markdown",
      "metadata": {
        "id": "view-in-github",
        "colab_type": "text"
      },
      "source": [
        "<a href=\"https://colab.research.google.com/github/gmazzitelli/studenti/blob/master/read_image_root_py2.ipynb\" target=\"_parent\"><img src=\"https://colab.research.google.com/assets/colab-badge.svg\" alt=\"Open In Colab\"/></a>"
      ]
    },
    {
      "cell_type": "markdown",
      "metadata": {
        "id": "WdtyA62GlVUw"
      },
      "source": [
        "This code load ROOT, python 2 environment. Runs this part only the first time."
      ]
    },
    {
      "cell_type": "code",
      "metadata": {
        "id": "J3hGfE_u8_Ed",
        "colab": {
          "base_uri": "https://localhost:8080/"
        },
        "outputId": "2d21c894-c73e-412d-c267-2255394ac366"
      },
      "source": [
        "import sys\n",
        "print (sys.version, get_ipython())\n",
        "if 'google.colab' in str(get_ipython()) and sys.version[0:1] in '2':\n",
        "  print('Running on CoLab')\n",
        "\n",
        "  # istallazione di ROOT dal CERN\n",
        "  !mkdir -p APPS\n",
        "  !pwd\n",
        "  !cd APPS && wget --no-check-certificate https://root.cern.ch/download/root_v6.13.08.Linux-ubuntu18-x86_64-gcc7.3.tar.gz \n",
        "  !cd APPS && tar -xf root_v6.13.08.Linux-ubuntu18-x86_64-gcc7.3.tar.gz\n",
        "\n",
        "  base_lib_path = '/content/APPS/root/lib/'\n",
        "  # main paths for ROOT  \n",
        "  import sys\n",
        "  sys.path.append(base_lib_path)\n",
        "  import ctypes\n",
        "  sys.path.append(base_lib_path)\n",
        "  ctypes.cdll.LoadLibrary(base_lib_path+'libCore.so')\n",
        "  ctypes.cdll.LoadLibrary(base_lib_path+'libThread.so')\n",
        "  ctypes.cdll.LoadLibrary(base_lib_path+'libImt.so')\n",
        "  ctypes.cdll.LoadLibrary(base_lib_path+'libRIO.so')\n",
        "  ctypes.cdll.LoadLibrary(base_lib_path+'libNet.so')\n",
        "  ctypes.cdll.LoadLibrary(base_lib_path+'libTree.so')\n",
        "  ctypes.cdll.LoadLibrary(base_lib_path+'libMathCore.so')\n",
        "  ctypes.cdll.LoadLibrary(base_lib_path+'libMatrix.so')\n",
        "  ctypes.cdll.LoadLibrary(base_lib_path+'libHist.so')\n",
        "  ctypes.cdll.LoadLibrary(base_lib_path+'libGraf.so')\n",
        "  # itsllation and root-numpy main PATH\n",
        "  !pip install root-numpy\n",
        "  ctypes.cdll.LoadLibrary(base_lib_path+'libMultiProc.so')\n",
        "  ctypes.cdll.LoadLibrary(base_lib_path+'libGpad.so')\n",
        "  ctypes.cdll.LoadLibrary(base_lib_path+'libGraf3d.so')\n",
        "  ctypes.cdll.LoadLibrary(base_lib_path+'libTreePlayer.so')\n",
        "  # patch to open online FILE\n",
        "  ! sudo apt-get install libdavix0v5\n",
        "  ctypes.cdll.LoadLibrary(base_lib_path+'libRDAVIX.so')\n",
        "  ! echo \"Davix.GSI.CACheck: n\" >> $ROOTSYS/etc/system.rootrc\n",
        "  ! cp $ROOTSYS/etc/system.rootrc $HOME/.rootrc\n",
        "  ! tail -1 $HOME/.rootrc\n",
        "  \n",
        "  sys.path.append('.')\n",
        "  ! mkdir -p data\n",
        "else:\n",
        "  print (\"non ho fatto nulla ;) non sono su Colab!\")"
      ],
      "execution_count": null,
      "outputs": [
        {
          "output_type": "stream",
          "text": [
            "('2.7.17 (default, Feb 27 2021, 15:10:58) \\n[GCC 7.5.0]', <google.colab._shell.Shell object at 0x7fd2a3acbb10>)\n",
            "Running on CoLab\n",
            "/content\n",
            "--2021-05-04 12:16:01--  https://root.cern.ch/download/root_v6.13.08.Linux-ubuntu18-x86_64-gcc7.3.tar.gz\n",
            "Resolving root.cern.ch (root.cern.ch)... 137.138.18.236, 2001:1458:201:ee::100:6\n",
            "Connecting to root.cern.ch (root.cern.ch)|137.138.18.236|:443... connected.\n",
            "HTTP request sent, awaiting response... 200 OK\n",
            "Length: 137415272 (131M) [application/x-gzip]\n",
            "Saving to: ‘root_v6.13.08.Linux-ubuntu18-x86_64-gcc7.3.tar.gz’\n",
            "\n",
            "root_v6.13.08.Linux 100%[===================>] 131.05M  23.8MB/s    in 6.3s    \n",
            "\n",
            "2021-05-04 12:16:08 (21.0 MB/s) - ‘root_v6.13.08.Linux-ubuntu18-x86_64-gcc7.3.tar.gz’ saved [137415272/137415272]\n",
            "\n",
            "Collecting root-numpy\n",
            "\u001b[?25l  Downloading https://files.pythonhosted.org/packages/d5/5f/82f5111c22599676eb8b5f9b1bf85c38dcc7995d52cd6b4a8f5f5caa4659/root_numpy-4.8.0.tar.gz (520kB)\n",
            "\u001b[K     |████████████████████████████████| 522kB 5.3MB/s \n",
            "\u001b[?25hBuilding wheels for collected packages: root-numpy\n",
            "  Building wheel for root-numpy (setup.py) ... \u001b[?25l"
          ],
          "name": "stdout"
        }
      ]
    },
    {
      "cell_type": "markdown",
      "metadata": {
        "id": "we6YOk--lz0r"
      },
      "source": [
        "richima paccehtti python per CYGNO\n"
      ]
    },
    {
      "cell_type": "code",
      "metadata": {
        "id": "wsGb5OQR8jIr"
      },
      "source": [
        "import matplotlib.pyplot as plt\n",
        "import numpy as np    \n",
        "import ROOT\n",
        "import root_numpy as rtnp\n",
        "\n",
        "\n",
        "%matplotlib inline\n",
        "import pandas as pd\n",
        "\n",
        "\n",
        "def s3_root_file(sel, run):\n",
        "    BASE_URL  = \"https://s3.cloud.infn.it/v1/AUTH_2ebf769785574195bde2ff418deac08a/cygnus/\"\n",
        "    file_root = ('Data/'+sel+'/histograms_Run%05d.root' % run)\n",
        "    return BASE_URL+file_root\n",
        "def root_TH2_name(root_file):\n",
        "    pic = []\n",
        "    wfm = []\n",
        "    for i,e in enumerate(root_file.GetListOfKeys()):\n",
        "        che = e.GetName()\n",
        "        if ('pic_run' in str(che)):\n",
        "            pic.append(che)\n",
        "        elif ('wfm_run' in str(che)):\n",
        "            wfm.append(che)\n",
        "    return pic, wfm"
      ],
      "execution_count": null,
      "outputs": []
    },
    {
      "cell_type": "markdown",
      "metadata": {
        "id": "g0Z1nMtFj0oX"
      },
      "source": [
        "apere file [rum] from [tag] "
      ]
    },
    {
      "cell_type": "code",
      "metadata": {
        "id": "j7TtYehJZ4cE"
      },
      "source": [
        "run = 4020\n",
        "tag = \"LAB\" # Run tag: MAN, FNG, LAB, BTF, LTD\n",
        "print ('Open file: '+s3_root_file(tag, run))\n",
        "f = ROOT.TFile.Open(s3_root_file(tag, run))\n",
        "print ('Find Keys: '+str(len(f.GetListOfKeys())))\n",
        "pic, wfm = root_TH2_name(f)\n",
        "max_image = len(pic)\n",
        "max_wfm = len(wfm)\n",
        "print (\"# of Images (TH2) Files: {:d}\".format(max_image))\n",
        "print (\"# of Waveform (TH2) Files: {:d} \".format(max_wfm))\n",
        "image = rtnp.hist2array(f.Get(pic[0])).T\n",
        "x_resolution = image.shape[1]\n",
        "y_resolution = image.shape[0]\n",
        "print ('Camera X, Y pixel: {:d} {:d} '.format(x_resolution, y_resolution))"
      ],
      "execution_count": null,
      "outputs": []
    },
    {
      "cell_type": "markdown",
      "metadata": {
        "id": "EzEifrSNj_51"
      },
      "source": [
        "show imege file from [ini] to [end]"
      ]
    },
    {
      "cell_type": "code",
      "metadata": {
        "id": "9dCkRf2Aa2wi"
      },
      "source": [
        "iTr = 0 # numero imagine da leggere\n",
        "save = False\n",
        "image = rtnp.hist2array(f.Get(pic[iTr])).T\n",
        "fig = plt.figure(figsize=(10,10))\n",
        "plt.title(\"I%d Run%d\" % (iTr, int(run)))\n",
        "plt.imshow(image,  cmap=\"jet\", vmin=98,vmax=150)\n",
        "plt.show()"
      ],
      "execution_count": null,
      "outputs": []
    },
    {
      "cell_type": "code",
      "metadata": {
        "id": "Jo4wnISLST9i"
      },
      "source": [
        ""
      ],
      "execution_count": null,
      "outputs": []
    }
  ]
}