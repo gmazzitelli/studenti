{
  "nbformat": 4,
  "nbformat_minor": 0,
  "metadata": {
    "kernelspec": {
      "name": "python2",
      "display_name": "Python 2"
    },
    "colab": {
      "name": "show-image-online.ipynb",
      "provenance": [],
      "include_colab_link": true
    }
  },
  "cells": [
    {
      "cell_type": "markdown",
      "metadata": {
        "id": "view-in-github",
        "colab_type": "text"
      },
      "source": [
        "<a href=\"https://colab.research.google.com/github/gmazzitelli/studenti/blob/master/show_image_online_root.ipynb\" target=\"_parent\"><img src=\"https://colab.research.google.com/assets/colab-badge.svg\" alt=\"Open In Colab\"/></a>"
      ]
    },
    {
      "cell_type": "markdown",
      "metadata": {
        "id": "WdtyA62GlVUw",
        "colab_type": "text"
      },
      "source": [
        "This code load ROOT, python 2 environment. Runs this part only the first time."
      ]
    },
    {
      "cell_type": "code",
      "metadata": {
        "id": "J3hGfE_u8_Ed",
        "colab_type": "code",
        "colab": {}
      },
      "source": [
        "# sitallazione di ROOT dal CERN\n",
        "!mkdir -p APPS\n",
        "!pwd\n",
        "!cd APPS && wget https://root.cern.ch/download/root_v6.13.08.Linux-ubuntu18-x86_64-gcc7.3.tar.gz \n",
        "!cd APPS && tar -xf root_v6.13.08.Linux-ubuntu18-x86_64-gcc7.3.tar.gz\n",
        "\n",
        "# main paths for ROOT  \n",
        "import sys\n",
        "sys.path.append(\"/content/APPS/root/lib\")\n",
        "import ctypes\n",
        "ctypes.cdll.LoadLibrary('/content/APPS/root/lib/libCore.so')\n",
        "ctypes.cdll.LoadLibrary('/content/APPS/root/lib/libThread.so')\n",
        "ctypes.cdll.LoadLibrary('/content/APPS/root/lib/libImt.so')\n",
        "ctypes.cdll.LoadLibrary('/content/APPS/root/lib/libRIO.so')\n",
        "ctypes.cdll.LoadLibrary('/content/APPS/root/lib/libNet.so')\n",
        "ctypes.cdll.LoadLibrary('/content/APPS/root/lib/libTree.so')\n",
        "ctypes.cdll.LoadLibrary('/content/APPS/root/lib/libMathCore.so')\n",
        "ctypes.cdll.LoadLibrary('/content/APPS/root/lib/libMatrix.so')\n",
        "ctypes.cdll.LoadLibrary('/content/APPS/root/lib/libHist.so')\n",
        "ctypes.cdll.LoadLibrary('/content/APPS/root/lib/libGraf.so')\n",
        "# itsllation and root-numpy main PATH\n",
        "!pip install root-numpy\n",
        "ctypes.cdll.LoadLibrary('/content/APPS/root/lib/libMultiProc.so')\n",
        "ctypes.cdll.LoadLibrary('/content/APPS/root/lib/libGpad.so')\n",
        "ctypes.cdll.LoadLibrary('/content/APPS/root/lib/libGraf3d.so')\n",
        "ctypes.cdll.LoadLibrary('/content/APPS/root/lib/libTreePlayer.so')\n",
        "# patch to open online FILE\n",
        "! sudo apt-get install libdavix0v5\n",
        "ctypes.cdll.LoadLibrary('/content/APPS/root/lib/libRDAVIX.so')\n",
        "! echo \"Davix.GSI.CACheck: n\" >> $ROOTSYS/etc/system.rootrc\n",
        "! cp $ROOTSYS/etc/system.rootrc $HOME/.rootrc\n",
        "! tail -1 $HOME/.rootrc"
      ],
      "execution_count": 0,
      "outputs": []
    },
    {
      "cell_type": "markdown",
      "metadata": {
        "id": "we6YOk--lz0r",
        "colab_type": "text"
      },
      "source": [
        "Load the funcion to retrive data from swift CYGNO server"
      ]
    },
    {
      "cell_type": "code",
      "metadata": {
        "id": "wsGb5OQR8jIr",
        "colab_type": "code",
        "colab": {}
      },
      "source": [
        "!pip install -q  python-swiftclient\n",
        "!pip install -q  keystoneauth1\n",
        "!pip install -q  h5py\n",
        "import matplotlib.pyplot as plt\n",
        "import numpy as np    \n",
        "import ROOT\n",
        "import root_numpy as rtnp\n",
        "! rm cygnus_lib.*; rm mylib.*\n",
        "! wget https://raw.githubusercontent.com/gmazzitelli/cygno/master/cygnus_lib.py\n",
        "! wget https://raw.githubusercontent.com/gmazzitelli/cygno/master/mylib.py\n",
        "sys.path.append('.')\n",
        "import cygnus_lib as cy\n",
        "import mylib as my\n",
        "%matplotlib inline\n",
        "import pandas as pd\n",
        "from scipy.optimize import curve_fit\n",
        "from scipy.stats import chisquare\n",
        "import scipy.stats as stats\n",
        "from itertools import combinations\n",
        "import math\n",
        "import os\n",
        "\n",
        "from sklearn.cluster import DBSCAN\n",
        "from sklearn.preprocessing import StandardScaler\n",
        "\n",
        "x_resolution = y_resolution = 2048\n",
        "cy.set_atlas_style('square')\n",
        "!mkdir -p data"
      ],
      "execution_count": 0,
      "outputs": []
    },
    {
      "cell_type": "markdown",
      "metadata": {
        "id": "g0Z1nMtFj0oX",
        "colab_type": "text"
      },
      "source": [
        "download file [rum] from [tag] "
      ]
    },
    {
      "cell_type": "code",
      "metadata": {
        "id": "j7TtYehJZ4cE",
        "colab_type": "code",
        "colab": {}
      },
      "source": [
        "run = 2309\n",
        "tag = \"LAB\" # Run tag: MAN, FNG, LAB, BTF, LTD\n",
        "print ('Open file: '+cy.swift_root_file(tag, run))\n",
        "f = ROOT.TFile.Open(cy.swift_root_file(tag, run))\n",
        "# to download and open file\n",
        "# f = cy.swift_read_root_file(cy.swift_root_file(tag, run))\n",
        "# not useed anymore \n",
        "print ('Find Keys: '+str(len(f.GetListOfKeys())))\n",
        "pic, wfm = cy.root_TH2_name(f)\n",
        "max_image = len(pic)\n",
        "max_wfm = len(wfm)\n",
        "print (\"# of Images (TH2) Files: %d \" % (max_image))\n",
        "print (\"# of Waveform (TH2) Files: %d \" % (max_wfm))"
      ],
      "execution_count": 0,
      "outputs": []
    },
    {
      "cell_type": "markdown",
      "metadata": {
        "id": "EzEifrSNj_51",
        "colab_type": "text"
      },
      "source": [
        "show imege file from [ini] to [end]"
      ]
    },
    {
      "cell_type": "code",
      "metadata": {
        "id": "9dCkRf2Aa2wi",
        "colab_type": "code",
        "colab": {}
      },
      "source": [
        "ini = 10\n",
        "end = ini+5\n",
        "save = 0\n",
        "for iTr in range(ini,end):\n",
        "    image = rtnp.hist2array(f.Get(pic[iTr])).T\n",
        "    fig = plt.figure(figsize=(16,16))\n",
        "    plt.title(\"I%d Run%d\" % (iTr, int(run)))\n",
        "    plt.imshow(image,  cmap=\"jet\", vmin=95,vmax=120)\n",
        "    plt.xticks([])\n",
        "    plt.yticks([])\n",
        "    plt.colorbar()\n",
        "    if save == 1:\n",
        "        plt.savefig('./images/I%dRun%s.png' % (iTr, run), format='png',  dpi = 400, bbox_inches = 'tight', pad_inches = 0)\n",
        "    plt.show()"
      ],
      "execution_count": 0,
      "outputs": []
    },
    {
      "cell_type": "code",
      "metadata": {
        "id": "uH4c1L4lzAnb",
        "colab_type": "code",
        "colab": {}
      },
      "source": [
        "import ROOT\n",
        "h = ROOT.TH1F(\"gauss\",\"Example histogram\",100,-4,4)\n",
        "h.FillRandom(\"gaus\")\n",
        "c = ROOT.TCanvas(\"myCanvasName\",\"The Canvas Title\",800,600)\n",
        "h.Draw()\n",
        "c.Draw()"
      ],
      "execution_count": 0,
      "outputs": []
    }
  ]
}