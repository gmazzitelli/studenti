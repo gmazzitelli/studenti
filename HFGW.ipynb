{
  "nbformat": 4,
  "nbformat_minor": 0,
  "metadata": {
    "colab": {
      "name": "HFGW.ipynb",
      "provenance": [],
      "collapsed_sections": [],
      "authorship_tag": "ABX9TyNUt2BxBhqLAJZGt1FsgGDL",
      "include_colab_link": true
    },
    "kernelspec": {
      "name": "python3",
      "display_name": "Python 3"
    }
  },
  "cells": [
    {
      "cell_type": "markdown",
      "metadata": {
        "id": "view-in-github",
        "colab_type": "text"
      },
      "source": [
        "<a href=\"https://colab.research.google.com/github/gmazzitelli/studenti/blob/master/HFGW.ipynb\" target=\"_parent\"><img src=\"https://colab.research.google.com/assets/colab-badge.svg\" alt=\"Open In Colab\"/></a>"
      ]
    },
    {
      "cell_type": "markdown",
      "metadata": {
        "id": "1g_mKmeEKqHF"
      },
      "source": [
        "\n",
        "**HFGW**\n",
        "\n",
        "---\n",
        "\n",
        "\n",
        "reference: https://link.springer.com/article/10.1140/epjc/s10052-019-7542-5\n",
        "\n",
        "--- \n",
        "https://indico.cern.ch/event/1074510/timetable/#20211012\n"
      ]
    },
    {
      "cell_type": "code",
      "metadata": {
        "id": "MYn8K6gQjUaR"
      },
      "source": [
        "import IPython\n",
        "%matplotlib inline\n",
        "#report_path = \"https://ipython.org/ipython-doc/3/api/generated/IPython.display.html\"\n",
        "## report_path = \"https://link.springer.com/article/10.1140/epjc/s10052-019-7542-5\"\n",
        "#display(IPython.display.HTML(report_path))"
      ],
      "execution_count": 7,
      "outputs": []
    },
    {
      "cell_type": "code",
      "metadata": {
        "id": "Mu9f3SZsi09f"
      },
      "source": [
        "#! wget http://adlibitum.oats.inaf.it/monaco/Dispense/costanti.pdf\n",
        "report_path = \"http://adlibitum.oats.inaf.it/monaco/Dispense/costanti.pdf\"\n",
        "from IPython.display import IFrame\n",
        "display(IFrame(\"/content/costanti.pdf\", width=900, height=650))"
      ],
      "execution_count": null,
      "outputs": []
    },
    {
      "cell_type": "code",
      "metadata": {
        "colab": {
          "base_uri": "https://localhost:8080/"
        },
        "id": "-aar7T9QKh68",
        "outputId": "eeebb203-ddec-4db1-dff1-23fae2a601cc"
      },
      "source": [
        "import numpy as np\n",
        "# FLASH\n",
        "B = 1.1\n",
        "L = 2.52\n",
        "R = 2.77\n",
        "A = np.pi*R**2\n",
        "N = 10**-17\n",
        "e = 1.0\n",
        "dF = 2.2**6 # Hz\n",
        "#\n",
        "h = 1.6e-15 *(1.0/B)*(1.0/L)*np.sqrt((N)*(1.0/A)*(1/dF)*(1/e))\n",
        "print (\"h equivalente per FLASH {:.2e}\".format(h))"
      ],
      "execution_count": 8,
      "outputs": [
        {
          "output_type": "stream",
          "name": "stdout",
          "text": [
            "h equivalente per FLASH 3.49e-26\n"
          ]
        }
      ]
    },
    {
      "cell_type": "code",
      "metadata": {
        "colab": {
          "base_uri": "https://localhost:8080/"
        },
        "id": "wN3oXUupQOZD",
        "outputId": "03efc6f1-c0ef-488d-d6ce-8d98fc86e05d"
      },
      "source": [
        "# come da documento gawwave.pdf\n",
        "Gcgs = 6.67e-8  # cm3, g-1 s-2\n",
        "ccgs = 299792458.0e2\n",
        "Bcgs = 1e5 # Gauss\n",
        "Lcgs = np.sqrt(1e3)\n",
        "F = (4*np.pi*Gcgs*Bcgs**2*Lcgs**2)/ccgs**4\n",
        "print (\"Fattore di conversione PEM = F*PGW {:.2e} cgs\".format(F))\n",
        "# PEM = F*PGW "
      ],
      "execution_count": null,
      "outputs": [
        {
          "output_type": "stream",
          "name": "stdout",
          "text": [
            "Fattore di conversione PEM = F*PGW 1.04e-35 cgs\n"
          ]
        }
      ]
    },
    {
      "cell_type": "code",
      "metadata": {
        "colab": {
          "base_uri": "https://localhost:8080/"
        },
        "id": "PuaR4ilGwJ-d",
        "outputId": "4ed881c8-46a3-4a58-fc86-ccb2672e0688"
      },
      "source": [
        "G = 6.67e-11 # m3⋅kg–1⋅s–2\n",
        "c = 299792458.0\n",
        "F = (4*np.pi*G*B**2*L**2)/c**4\n",
        "print (\"Fattore di conversione PEM = F*PGW {:.2e} MKS\".format(F))"
      ],
      "execution_count": null,
      "outputs": [
        {
          "output_type": "stream",
          "name": "stdout",
          "text": [
            "Fattore di conversione PEM = F*PGW 7.97e-43 MKS\n"
          ]
        }
      ]
    },
    {
      "cell_type": "code",
      "metadata": {
        "colab": {
          "base_uri": "https://localhost:8080/"
        },
        "id": "s2ad1bL6JXJp",
        "outputId": "978e31f4-72fe-41a6-a520-abf28c12a755"
      },
      "source": [
        "# rapoorto fra le forze elettromagnetiche e gravitazioni in un elettrone\n",
        "Qe = 1.60e-19 # C\n",
        "Me = 9.11e-31 # kg\n",
        "Mp = 1.66e-27 # kg\n",
        "e0 = 8.85e-11 # C ^m-1 N^-2\n",
        "k = 1/(4*np.pi*e0)\n",
        "Fg = G*Me**2\n",
        "Fe = k*Qe**2\n",
        "print (\"Fg/Fe elttroni {:.2e}\".format(Fg/Fe))\n",
        "Fg = G*Mp**2\n",
        "print (\"Fg/Fe protoni {:.2e}\".format(Fg/Fe))"
      ],
      "execution_count": null,
      "outputs": [
        {
          "output_type": "stream",
          "name": "stdout",
          "text": [
            "Fg/Fe elttroni 2.40e-42\n",
            "Fg/Fe protoni 7.98e-36\n"
          ]
        }
      ]
    },
    {
      "cell_type": "code",
      "metadata": {
        "id": "R72AbgE0SoSE"
      },
      "source": [
        ""
      ],
      "execution_count": null,
      "outputs": []
    }
  ]
}