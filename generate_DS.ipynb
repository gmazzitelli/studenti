{
  "nbformat": 4,
  "nbformat_minor": 0,
  "metadata": {
    "kernelspec": {
      "name": "python2",
      "display_name": "Python 2"
    },
    "colab": {
      "name": "generate_DS.ipynb",
      "provenance": [],
      "include_colab_link": true
    }
  },
  "cells": [
    {
      "cell_type": "markdown",
      "metadata": {
        "id": "view-in-github",
        "colab_type": "text"
      },
      "source": [
        "<a href=\"https://colab.research.google.com/github/gmazzitelli/studenti/blob/master/generate_DS.ipynb\" target=\"_parent\"><img src=\"https://colab.research.google.com/assets/colab-badge.svg\" alt=\"Open In Colab\"/></a>"
      ]
    },
    {
      "cell_type": "markdown",
      "metadata": {
        "id": "WdtyA62GlVUw",
        "colab_type": "text"
      },
      "source": [
        "Inizializzation.\n",
        "\n",
        "This Cell download and intstall ROOT in python 2 environment. \n",
        "\n",
        "Runs this part of the script only when you have to init a new machine e and working space"
      ]
    },
    {
      "cell_type": "code",
      "metadata": {
        "id": "WR7spwz3KGgk",
        "colab_type": "code",
        "colab": {
          "base_uri": "https://localhost:8080/",
          "height": 35
        },
        "outputId": "ffb9f11d-30ad-438a-b06a-641dc49c2f71"
      },
      "source": [
        ""
      ],
      "execution_count": 1,
      "outputs": [
        {
          "output_type": "stream",
          "text": [
            "APPS  cygnus_lib.py  data  mylib.py  sample_data\n"
          ],
          "name": "stdout"
        }
      ]
    },
    {
      "cell_type": "code",
      "metadata": {
        "id": "J3hGfE_u8_Ed",
        "colab_type": "code",
        "colab": {
          "base_uri": "https://localhost:8080/",
          "height": 345
        },
        "outputId": "af0ea4d9-adc4-4536-c282-ad86e1eeb02e"
      },
      "source": [
        "# sitallazione di ROOT dal CERN\n",
        "!mkdir -p APPS\n",
        "!pwd\n",
        "!cd APPS && wget https://root.cern.ch/download/root_v6.13.08.Linux-ubuntu18-x86_64-gcc7.3.tar.gz \n",
        "!cd APPS && tar -xf root_v6.13.08.Linux-ubuntu18-x86_64-gcc7.3.tar.gz\n",
        "\n",
        "# main paths for ROOT  \n",
        "import sys\n",
        "sys.path.append(\"/content/APPS/root/lib\")\n",
        "import ctypes\n",
        "ctypes.cdll.LoadLibrary('/content/APPS/root/lib/libCore.so')\n",
        "ctypes.cdll.LoadLibrary('/content/APPS/root/lib/libThread.so')\n",
        "ctypes.cdll.LoadLibrary('/content/APPS/root/lib/libImt.so')\n",
        "ctypes.cdll.LoadLibrary('/content/APPS/root/lib/libRIO.so')\n",
        "ctypes.cdll.LoadLibrary('/content/APPS/root/lib/libNet.so')\n",
        "ctypes.cdll.LoadLibrary('/content/APPS/root/lib/libTree.so')\n",
        "ctypes.cdll.LoadLibrary('/content/APPS/root/lib/libMathCore.so')\n",
        "ctypes.cdll.LoadLibrary('/content/APPS/root/lib/libMatrix.so')\n",
        "ctypes.cdll.LoadLibrary('/content/APPS/root/lib/libHist.so')\n",
        "ctypes.cdll.LoadLibrary('/content/APPS/root/lib/libGraf.so')\n",
        "# itsllation and root-numpy main PATH\n",
        "!pip install root-numpy\n",
        "ctypes.cdll.LoadLibrary('/content/APPS/root/lib/libMultiProc.so')\n",
        "ctypes.cdll.LoadLibrary('/content/APPS/root/lib/libGpad.so')\n",
        "ctypes.cdll.LoadLibrary('/content/APPS/root/lib/libGraf3d.so')\n",
        "ctypes.cdll.LoadLibrary('/content/APPS/root/lib/libTreePlayer.so')\n",
        "# patch to open online FILE\n",
        "! sudo apt-get install libdavix0v5\n",
        "ctypes.cdll.LoadLibrary('/content/APPS/root/lib/libRDAVIX.so')\n",
        "! echo \"Davix.GSI.CACheck: n\" >> $ROOTSYS/etc/system.rootrc\n",
        "! cp $ROOTSYS/etc/system.rootrc $HOME/.rootrc\n",
        "! tail -1 $HOME/.rootrc"
      ],
      "execution_count": 2,
      "outputs": [
        {
          "output_type": "stream",
          "text": [
            "/content\n",
            "--2020-04-27 15:02:16--  https://root.cern.ch/download/root_v6.13.08.Linux-ubuntu18-x86_64-gcc7.3.tar.gz\n",
            "Resolving root.cern.ch (root.cern.ch)... 137.138.13.143, 2001:1458:201:45::100:b\n",
            "Connecting to root.cern.ch (root.cern.ch)|137.138.13.143|:443... connected.\n",
            "HTTP request sent, awaiting response... 200 OK\n",
            "Length: 137415272 (131M) [application/x-gzip]\n",
            "Saving to: ‘root_v6.13.08.Linux-ubuntu18-x86_64-gcc7.3.tar.gz.4’\n",
            "\n",
            "root_v6.13.08.Linux 100%[===================>] 131.05M  11.0MB/s    in 14s     \n",
            "\n",
            "2020-04-27 15:02:31 (9.43 MB/s) - ‘root_v6.13.08.Linux-ubuntu18-x86_64-gcc7.3.tar.gz.4’ saved [137415272/137415272]\n",
            "\n",
            "Requirement already satisfied: root-numpy in /usr/local/lib/python2.7/dist-packages (4.8.0)\n",
            "Reading package lists... Done\n",
            "Building dependency tree       \n",
            "Reading state information... Done\n",
            "libdavix0v5 is already the newest version (0.6.7-1).\n",
            "0 upgraded, 0 newly installed, 0 to remove and 25 not upgraded.\n",
            "Davix.GSI.CACheck: n\n"
          ],
          "name": "stdout"
        }
      ]
    },
    {
      "cell_type": "markdown",
      "metadata": {
        "id": "we6YOk--lz0r",
        "colab_type": "text"
      },
      "source": [
        "This Cell Load funcions (libraries) to retrive data from swift CYGNO server\n",
        "\n",
        "Runs this part of the script only when you have to init a new machine e and working space"
      ]
    },
    {
      "cell_type": "code",
      "metadata": {
        "id": "wsGb5OQR8jIr",
        "colab_type": "code",
        "colab": {
          "base_uri": "https://localhost:8080/",
          "height": 415
        },
        "outputId": "cade5122-6a2d-43a1-9504-3702218e41b8"
      },
      "source": [
        "!pip install -q  python-swiftclient\n",
        "!pip install -q  keystoneauth1\n",
        "!pip install -q  h5py\n",
        "import matplotlib.pyplot as plt\n",
        "import numpy as np    \n",
        "import ROOT\n",
        "import root_numpy as rtnp\n",
        "! rm cygnus_lib.*; rm mylib.*\n",
        "! wget https://raw.githubusercontent.com/gmazzitelli/cygno/master/cygnus_lib.py\n",
        "! wget https://raw.githubusercontent.com/gmazzitelli/cygno/master/mylib.py\n",
        "sys.path.append('.')\n",
        "import cygnus_lib as cy\n",
        "import mylib as my\n",
        "%matplotlib inline\n",
        "import pandas as pd\n",
        "from scipy.optimize import curve_fit\n",
        "from scipy.stats import chisquare\n",
        "import scipy.stats as stats\n",
        "from itertools import combinations\n",
        "import math\n",
        "import os\n",
        "\n",
        "from sklearn.cluster import DBSCAN\n",
        "from sklearn.preprocessing import StandardScaler\n",
        "\n",
        "x_resolution = y_resolution = 2048\n",
        "cy.set_atlas_style('square')\n",
        "!mkdir -p data"
      ],
      "execution_count": 3,
      "outputs": [
        {
          "output_type": "stream",
          "text": [
            "Welcome to JupyROOT 6.13/08\n",
            "--2020-04-27 15:03:08--  https://raw.githubusercontent.com/gmazzitelli/cygno/master/cygnus_lib.py\n",
            "Resolving raw.githubusercontent.com (raw.githubusercontent.com)... 151.101.0.133, 151.101.64.133, 151.101.128.133, ...\n",
            "Connecting to raw.githubusercontent.com (raw.githubusercontent.com)|151.101.0.133|:443... connected.\n",
            "HTTP request sent, awaiting response... 200 OK\n",
            "Length: 24130 (24K) [text/plain]\n",
            "Saving to: ‘cygnus_lib.py’\n",
            "\n",
            "cygnus_lib.py       100%[===================>]  23.56K  --.-KB/s    in 0.01s   \n",
            "\n",
            "2020-04-27 15:03:08 (1.87 MB/s) - ‘cygnus_lib.py’ saved [24130/24130]\n",
            "\n",
            "--2020-04-27 15:03:10--  https://raw.githubusercontent.com/gmazzitelli/cygno/master/mylib.py\n",
            "Resolving raw.githubusercontent.com (raw.githubusercontent.com)... 151.101.0.133, 151.101.64.133, 151.101.128.133, ...\n",
            "Connecting to raw.githubusercontent.com (raw.githubusercontent.com)|151.101.0.133|:443... connected.\n",
            "HTTP request sent, awaiting response... 200 OK\n",
            "Length: 17634 (17K) [text/plain]\n",
            "Saving to: ‘mylib.py’\n",
            "\n",
            "mylib.py            100%[===================>]  17.22K  --.-KB/s    in 0.01s   \n",
            "\n",
            "2020-04-27 15:03:11 (1.33 MB/s) - ‘mylib.py’ saved [17634/17634]\n",
            "\n"
          ],
          "name": "stdout"
        }
      ]
    },
    {
      "cell_type": "markdown",
      "metadata": {
        "id": "g0Z1nMtFj0oX",
        "colab_type": "text"
      },
      "source": [
        "Generate data stream file looking for close clusters in any images: \n",
        "\n",
        "1.   download pedestal file [run_ped]\n",
        "2.   download dafa file/s [runI] from specifc location [dataSelection]\n",
        "3.   Serch for cluster with DBSCAN\n",
        "4.   save output in txt file\n"
      ]
    },
    {
      "cell_type": "code",
      "metadata": {
        "id": "j7TtYehJZ4cE",
        "colab_type": "code",
        "colab": {
          "base_uri": "https://localhost:8080/",
          "height": 383
        },
        "outputId": "b5c74211-fb65-403d-853d-e5d82b35909e"
      },
      "source": [
        "runI          = [1856] \n",
        "run_ped       = 1748 \n",
        "cimax         = 300\n",
        "cimin         = 0 \n",
        "dataSelection = 'LAB'\n",
        "rescale       = 512\n",
        "nsigma        = 1.5\n",
        "\n",
        "try:\n",
        "  fh5 = (\"run%d_mean.h5\" % (run_ped))\n",
        "  cmd = 'wget -nv https://raw.githubusercontent.com/gmazzitelli/cygno/master/data/'+fh5+' -O ./data/'+fh5\n",
        "  os.system(cmd)\n",
        "  fh5 = (\"run%d_sigma.h5\" % (run_ped))\n",
        "  cmd = 'wget -nv https://raw.githubusercontent.com/gmazzitelli/cygno/master/data/'+fh5+' -O ./data/'+fh5\n",
        "  os.system(cmd)\n",
        "except:\n",
        "  print (\"No Pedestal file for run %s on remote repo\" % run_ped)\n",
        "\n",
        "#########################\n",
        "\n",
        "try:\n",
        "    fileoutm = (\"./data/run%d_mean.h5\" % (run_ped))\n",
        "    m_image = cy.read_image_h5(fileoutm)\n",
        "    PedOverMax = m_image[m_image > cimax].size\n",
        "    print (\"Pedestal mean: %.2f, sigma: %.2f, over th. (%d) %d\" % \n",
        "       (m_image[m_image<cimax].mean(), \n",
        "        np.sqrt(m_image[m_image<cimax].var()), cimax,\n",
        "        (m_image>cimax).sum()))\n",
        "except:\n",
        "    print (\"No Pedestal file for run %s, run script runs-pedestals.ipynb\" % run_ped)\n",
        "    print (\"STOP\")\n",
        "\n",
        "    \n",
        "try: \n",
        "    fileouts = (\"./data/run%d_sigma.h5\" % (run_ped))\n",
        "    s_image = cy.read_image_h5(fileouts)\n",
        "    print (\"Sigma mean: %.2f, sigma: %.2f, over th. (50) %d\" % \n",
        "   (s_image[s_image<50].mean(), \n",
        "    np.sqrt(s_image[s_image<50].var()), \n",
        "    (s_image>50).sum()))\n",
        "except:\n",
        "    print (\"No Sigma file for run %s, run script runs-pedestals.ipynb\" % run_ped)\n",
        "    print (\"STOP\")\n",
        "\n",
        "#########################\n",
        "\n",
        "th_image   = np.round(m_image + nsigma*s_image)\n",
        "print (\"light over Th: %.2f \" % (th_image.sum()-m_image.sum()))\n",
        "    \n",
        "for nRi in range(0,len(runI)):\n",
        "    try:\n",
        "        #print ('Download and open file: '+cy.swift_root_file(dataSelection, runI[nRi]))\n",
        "        #tmp_file = cy.swift_download_file(cy.swift_root_file(dataSelection, runI[nRi]))\n",
        "        # print ('Open file: '+tmp_file)\n",
        "        print ('Open file: '+cy.swift_root_file(dataSelection, runI[nRi]))\n",
        "        f = ROOT.TFile.Open(cy.swift_root_file(dataSelection, runI[nRi]))\n",
        "        #f  = ROOT.TFile.Open(tmp_file);\n",
        "        print ('Find Keys: '+str(len(f.GetListOfKeys())))\n",
        "        pic, wfm = cy.root_TH2_name(f)\n",
        "        max_image = len(pic)\n",
        "        max_wfm = len(wfm)\n",
        "        print (\"# of Images (TH2) Files: %d \" % (max_image))\n",
        "        print (\"# of Waveform (TH2) Files: %d \" % (max_wfm))\n",
        "        nImag=max_image\n",
        "    except:\n",
        "        print (\"ERROR: No file %d\" % (runI[nRi]))\n",
        "        break\n",
        "\n",
        "    data_to_save = []\n",
        "    files = (\"./data/dbscan_run%d_cmin_%d_cmax_%d_rescale_%d_nsigma_%.1f_ev_%d_ped_%d.txt\" % \n",
        "                     (runI[nRi], cimin, cimax, rescale, nsigma, max_image, run_ped))\n",
        "    for iTr in range(0, max_image):\n",
        "        if iTr % 10 == 0: # pach in order overcome the problem of ROOT memory garbage\n",
        "             print ('Processing RUN: ', runI[nRi], 'Event: ', iTr)\n",
        "        #     print (iTr, ' >> Close and re-Open: ', tmp_file)\n",
        "        #     f.Close()\n",
        "        #     f  = ROOT.TFile.Open(tmp_file);\n",
        "\n",
        "        image = rtnp.hist2array(f.Get(pic[iTr])).T\n",
        "\n",
        "        rebin_image     = cy.rebin(image-m_image, (rescale, rescale))  \n",
        "        rebin_th_image  = cy.rebin((th_image-m_image), (rescale, rescale))\n",
        "\n",
        "        edges           = (rebin_image > rebin_th_image) & (rebin_image < cimax)         \n",
        "        points          = np.array(np.nonzero(edges)).T.astype(float) \n",
        "        scaler          = StandardScaler()\n",
        "        X_scaled        = scaler.fit_transform(points)\n",
        "\n",
        "        dbscan          = DBSCAN(eps=4, min_samples = 30)\n",
        "        dbscan.fit(points)\n",
        "\n",
        "        clusters = dbscan.fit_predict(X_scaled)\n",
        "\n",
        "        for ic in range (min(dbscan.labels_), max(dbscan.labels_)):\n",
        "            ph = 0.\n",
        "            # print (\"value: \", iTr, ic, dbscan.labels_[ic], min(dbscan.labels_), max(dbscan.labels_))\n",
        "            yc = points[:,1][dbscan.labels_==ic]\n",
        "            xc = points[:,0][dbscan.labels_==ic]\n",
        "            ph, dim = cy.cluster_par(yc, xc, rebin_image)\n",
        "            width, height, pearson = cy.confidence_ellipse_par(yc,xc)\n",
        "            for j in range(0, dim):\n",
        "                x=int(xc[j])\n",
        "                y=int(yc[j])\n",
        "                #ph += rebin_image[y,x]\n",
        "                if j == 0:\n",
        "                    x0start = x\n",
        "                    y0start = y\n",
        "            x0end = x\n",
        "            y0end = y\n",
        "            data_to_save.append([iTr, ic, dim, ph, ph/dim, \n",
        "                                 x0start, y0start, x0end, y0end, width, height, pearson])\n",
        "\n",
        "    np.savetxt(files, data_to_save, fmt='%.10e', delimiter=\" \")\n",
        "    print (\"out file\", files)\n",
        "    # if not cy.rm_file(tmp_file):\n",
        "    #     print (\">> File \"+tmp_file+\" removed\")"
      ],
      "execution_count": 15,
      "outputs": [
        {
          "output_type": "stream",
          "text": [
            "Pedestal mean: 99.55, sigma: 0.95, over th. (300) 9\n",
            "Sigma mean: 2.51, sigma: 2.16, over th. (50) 8\n",
            "light over Th: 15768690.56 \n",
            "Open file: https://swift.cloud.infn.it:8080/v1/AUTH_1e60fe39fba04701aa5ffc0b97871ed8/Cygnus/Data/LAB/histograms_Run01856.root\n",
            "Find Keys: 200\n",
            "# of Images (TH2) Files: 100 \n",
            "# of Waveform (TH2) Files: 100 \n",
            "('Processing RUN: ', 1856, 'Event: ', 0)\n",
            "('Processing RUN: ', 1856, 'Event: ', 10)\n",
            "('Processing RUN: ', 1856, 'Event: ', 20)\n",
            "('Processing RUN: ', 1856, 'Event: ', 30)\n",
            "('Processing RUN: ', 1856, 'Event: ', 40)\n",
            "('Processing RUN: ', 1856, 'Event: ', 50)\n",
            "('Processing RUN: ', 1856, 'Event: ', 60)\n",
            "('Processing RUN: ', 1856, 'Event: ', 70)\n",
            "('Processing RUN: ', 1856, 'Event: ', 80)\n",
            "('Processing RUN: ', 1856, 'Event: ', 90)\n",
            "('out file', './data/dbscan_run1856_cmin_0_cmax_300_rescale_512_nsigma_1.5_ev_100_ped_1748.txt')\n"
          ],
          "name": "stdout"
        },
        {
          "output_type": "stream",
          "text": [
            "2020-04-27 16:01:26 URL:https://raw.githubusercontent.com/gmazzitelli/cygno/master/data/run1748_mean.h5 [33556480/33556480] -> \"./data/run1748_mean.h5\" [1]\n",
            "2020-04-27 16:01:28 URL:https://raw.githubusercontent.com/gmazzitelli/cygno/master/data/run1748_sigma.h5 [33556480/33556480] -> \"./data/run1748_sigma.h5\" [1]\n"
          ],
          "name": "stderr"
        }
      ]
    },
    {
      "cell_type": "code",
      "metadata": {
        "id": "xAA8QrQ7oJWk",
        "colab_type": "code",
        "outputId": "f43804c8-18dd-4cc4-e033-a2b33bb63ae1",
        "colab": {
          "base_uri": "https://localhost:8080/",
          "height": 69
        }
      },
      "source": [
        "# outputs (.h5 are the pedestal files)\n",
        "!ls data"
      ],
      "execution_count": 12,
      "outputs": [
        {
          "output_type": "stream",
          "text": [
            "dbscan_run1856_cmin_0_cmax_300_rescale_512_nsigma_1.5_ev_100_ped_1748.txt\n",
            "run1748_mean.h5\n",
            "run1748_sigma.h5\n"
          ],
          "name": "stdout"
        }
      ]
    },
    {
      "cell_type": "markdown",
      "metadata": {
        "id": "_Shckdg9oQWr",
        "colab_type": "text"
      },
      "source": [
        "da fare:\n",
        "1.   studiarsi DBSCAN e come vengono selzionati i dati\n",
        "2.   mostrare il risultato di cluserizzazione di DBSCAN su ogni imagine (fare un debug delo script mostrando le immagini)\n",
        "2.   con panda caricare i file di output\n",
        "2.   guardarsi le varie variabili, visualizzarli, capire che significano\n",
        "3.   fare la distribuzione del numero di fotoni\n",
        "4.   fittarla con un esponenziale (coda del fondo) piu' gaussina (picco dei fotoni)\n",
        "5.   studiare l'andamento del picco del ferro nel tempo per i run pari tra 1856 e 2031\n",
        "\n",
        "\n",
        "\n"
      ]
    },
    {
      "cell_type": "code",
      "metadata": {
        "id": "v4T5yvkyHifV",
        "colab_type": "code",
        "colab": {
          "base_uri": "https://localhost:8080/",
          "height": 355
        },
        "outputId": "5d2f85a3-5183-4029-a010-de2d97ae0022"
      },
      "source": [
        "# mostra l'immagine iTr del file ...\n",
        "iTr = 0\n",
        "#\n",
        "f  = ROOT.TFile.Open('https://swift.cloud.infn.it:8080/v1/AUTH_1e60fe39fba04701aa5ffc0b97871ed8/Cygnus/Data/LAB/histograms_Run01856.root');\n",
        "pic, wfm = cy.root_TH2_name(f)\n",
        "#\n",
        "image = rtnp.hist2array(f.Get(pic[iTr])).T\n",
        "scope = rtnp.hist2array(f.Get(wfm[iTr])).T\n",
        "plt.imshow(image,  cmap=\"jet\", vmin=95,vmax=120)\n",
        "plt.show()"
      ],
      "execution_count": 14,
      "outputs": [
        {
          "output_type": "error",
          "ename": "TypeError",
          "evalue": "ignored",
          "traceback": [
            "\u001b[0;31m\u001b[0m",
            "\u001b[0;31mTypeError\u001b[0mTraceback (most recent call last)",
            "\u001b[0;32m<ipython-input-14-709e10169fb8>\u001b[0m in \u001b[0;36m<module>\u001b[0;34m()\u001b[0m\n\u001b[1;32m      5\u001b[0m \u001b[0;31m#\u001b[0m\u001b[0;34m\u001b[0m\u001b[0;34m\u001b[0m\u001b[0m\n\u001b[1;32m      6\u001b[0m \u001b[0mimage\u001b[0m \u001b[0;34m=\u001b[0m \u001b[0mrtnp\u001b[0m\u001b[0;34m.\u001b[0m\u001b[0mhist2array\u001b[0m\u001b[0;34m(\u001b[0m\u001b[0mf\u001b[0m\u001b[0;34m.\u001b[0m\u001b[0mGet\u001b[0m\u001b[0;34m(\u001b[0m\u001b[0mpic\u001b[0m\u001b[0;34m[\u001b[0m\u001b[0miTr\u001b[0m\u001b[0;34m]\u001b[0m\u001b[0;34m)\u001b[0m\u001b[0;34m)\u001b[0m\u001b[0;34m.\u001b[0m\u001b[0mT\u001b[0m\u001b[0;34m\u001b[0m\u001b[0m\n\u001b[0;32m----> 7\u001b[0;31m \u001b[0mscope\u001b[0m \u001b[0;34m=\u001b[0m \u001b[0mrtnp\u001b[0m\u001b[0;34m.\u001b[0m\u001b[0mhist2array\u001b[0m\u001b[0;34m(\u001b[0m\u001b[0mf\u001b[0m\u001b[0;34m.\u001b[0m\u001b[0mGet\u001b[0m\u001b[0;34m(\u001b[0m\u001b[0mwfm\u001b[0m\u001b[0;34m[\u001b[0m\u001b[0miTr\u001b[0m\u001b[0;34m]\u001b[0m\u001b[0;34m)\u001b[0m\u001b[0;34m)\u001b[0m\u001b[0;34m.\u001b[0m\u001b[0mT\u001b[0m\u001b[0;34m\u001b[0m\u001b[0m\n\u001b[0m\u001b[1;32m      8\u001b[0m \u001b[0mplt\u001b[0m\u001b[0;34m.\u001b[0m\u001b[0mimshow\u001b[0m\u001b[0;34m(\u001b[0m\u001b[0mimage\u001b[0m\u001b[0;34m,\u001b[0m  \u001b[0mcmap\u001b[0m\u001b[0;34m=\u001b[0m\u001b[0;34m\"jet\"\u001b[0m\u001b[0;34m,\u001b[0m \u001b[0mvmin\u001b[0m\u001b[0;34m=\u001b[0m\u001b[0;36m95\u001b[0m\u001b[0;34m,\u001b[0m\u001b[0mvmax\u001b[0m\u001b[0;34m=\u001b[0m\u001b[0;36m120\u001b[0m\u001b[0;34m)\u001b[0m\u001b[0;34m\u001b[0m\u001b[0m\n\u001b[1;32m      9\u001b[0m \u001b[0mplt\u001b[0m\u001b[0;34m.\u001b[0m\u001b[0mshow\u001b[0m\u001b[0;34m(\u001b[0m\u001b[0;34m)\u001b[0m\u001b[0;34m\u001b[0m\u001b[0m\n",
            "\u001b[0;32m/usr/local/lib/python2.7/dist-packages/root_numpy/_hist.pyc\u001b[0m in \u001b[0;36mhist2array\u001b[0;34m(hist, include_overflow, copy, return_edges)\u001b[0m\n\u001b[1;32m    183\u001b[0m     \u001b[0;32melse\u001b[0m\u001b[0;34m:\u001b[0m\u001b[0;34m\u001b[0m\u001b[0m\n\u001b[1;32m    184\u001b[0m         raise TypeError(\n\u001b[0;32m--> 185\u001b[0;31m             \u001b[0;34m\"hist must be an instance of ROOT.TH1, \"\u001b[0m\u001b[0;34m\u001b[0m\u001b[0m\n\u001b[0m\u001b[1;32m    186\u001b[0m             \"ROOT.TH2, ROOT.TH3, or ROOT.THnBase\")\n\u001b[1;32m    187\u001b[0m \u001b[0;34m\u001b[0m\u001b[0m\n",
            "\u001b[0;31mTypeError\u001b[0m: hist must be an instance of ROOT.TH1, ROOT.TH2, ROOT.TH3, or ROOT.THnBase"
          ]
        }
      ]
    },
    {
      "cell_type": "code",
      "metadata": {
        "id": "6fWlDcW4Swle",
        "colab_type": "code",
        "colab": {}
      },
      "source": [
        ""
      ],
      "execution_count": 0,
      "outputs": []
    }
  ]
}