{
  "nbformat": 4,
  "nbformat_minor": 0,
  "metadata": {
    "colab": {
      "name": "esempio2_fit_Pianeti.ipynb",
      "provenance": [],
      "collapsed_sections": [],
      "authorship_tag": "ABX9TyNG6c9+Y1BqGb/yGlrbVAW4",
      "include_colab_link": true
    },
    "kernelspec": {
      "name": "python3",
      "display_name": "Python 3"
    }
  },
  "cells": [
    {
      "cell_type": "markdown",
      "metadata": {
        "id": "view-in-github",
        "colab_type": "text"
      },
      "source": [
        "<a href=\"https://colab.research.google.com/github/gmazzitelli/studenti/blob/master/esempio2_fit_Pianeti.ipynb\" target=\"_parent\"><img src=\"https://colab.research.google.com/assets/colab-badge.svg\" alt=\"Open In Colab\"/></a>"
      ]
    },
    {
      "cell_type": "code",
      "metadata": {
        "id": "YJPAB_-P5rVh",
        "colab_type": "code",
        "colab": {}
      },
      "source": [
        "#\n",
        "# inzializzazione delle funzioni (librerie) usate nel notebook\n",
        "#\n",
        "import pandas as pd\n",
        "import numpy as np\n",
        "import matplotlib.pyplot as plt\n",
        "from scipy.optimize import curve_fit\n",
        "from sklearn.metrics import r2_score\n",
        "from scipy.stats import chisquare\n",
        "plt.rc('font', size = 14, family ='Sans-Serif')\n",
        "\n",
        "# https://it.wikipedia.org/wiki/Pianeti_del_sistema_solare\n"
      ],
      "execution_count": 0,
      "outputs": []
    },
    {
      "cell_type": "code",
      "metadata": {
        "id": "XQa5o9rL7yS9",
        "colab_type": "code",
        "outputId": "12573e73-bace-442f-f0cd-05b341532d28",
        "colab": {
          "base_uri": "https://localhost:8080/",
          "height": 377
        }
      },
      "source": [
        "# https://docs.google.com/spreadsheets/d/1jad2bmnnV3LHrI-8Auhn3EZrM6kxX_bWvBQDJ91vg08/edit?usp=sharing\n",
        "key=\"1jad2bmnnV3LHrI-8Auhn3EZrM6kxX_bWvBQDJ91vg08\"\n",
        "url_csv_file = \"https://docs.google.com/spreadsheet/ccc?key=\"+key+\"&output=csv\"\n",
        "df = pd.read_csv(url_csv_file)\n",
        "df = df.set_index('info').T\n",
        "df"
      ],
      "execution_count": 3,
      "outputs": [
        {
          "output_type": "execute_result",
          "data": {
            "text/html": [
              "<div>\n",
              "<style scoped>\n",
              "    .dataframe tbody tr th:only-of-type {\n",
              "        vertical-align: middle;\n",
              "    }\n",
              "\n",
              "    .dataframe tbody tr th {\n",
              "        vertical-align: top;\n",
              "    }\n",
              "\n",
              "    .dataframe thead th {\n",
              "        text-align: right;\n",
              "    }\n",
              "</style>\n",
              "<table border=\"1\" class=\"dataframe\">\n",
              "  <thead>\n",
              "    <tr style=\"text-align: right;\">\n",
              "      <th>info</th>\n",
              "      <th>Distanza media dal Sole\\nin km</th>\n",
              "      <th>Distanza media dal Sole\\nin UA</th>\n",
              "      <th>Raggio medio (in km)\\nRapportato alla Terra</th>\n",
              "      <th>Volume rapportato\\nalla Terra</th>\n",
              "      <th>Massa (in kg)</th>\n",
              "      <th>Densità media (× 103 kg/m3)</th>\n",
              "      <th>Accelerazione di gravità all'equatore (m/s2)</th>\n",
              "      <th>Velocità di fuga (m/s)</th>\n",
              "      <th>Periodo di rotazione siderale (giorni)</th>\n",
              "      <th>Periodo orbitale\\n(anni giuliani)</th>\n",
              "      <th>Velocità orbitale media (km/s)</th>\n",
              "      <th>Eccentricità</th>\n",
              "      <th>Inclinazione</th>\n",
              "      <th>Inclinazione assiale</th>\n",
              "      <th>Temperatura superficiale media (in K)</th>\n",
              "      <th>Temperatura atmosferica al livello del mare (in K)</th>\n",
              "      <th>Composizione atmosferica</th>\n",
              "      <th>Satelliti naturali</th>\n",
              "      <th>Anelli planetari</th>\n",
              "    </tr>\n",
              "  </thead>\n",
              "  <tbody>\n",
              "    <tr>\n",
              "      <th>Mercurio</th>\n",
              "      <td>5.79E+07</td>\n",
              "      <td>0.39</td>\n",
              "      <td>2439,64\\n0,3825</td>\n",
              "      <td>56</td>\n",
              "      <td>3.33E+23</td>\n",
              "      <td>5.43</td>\n",
              "      <td>3.7</td>\n",
              "      <td>4.25E+03</td>\n",
              "      <td>58.79</td>\n",
              "      <td>2,408,467</td>\n",
              "      <td>47.36</td>\n",
              "      <td>20,563,069</td>\n",
              "      <td>7,00487°</td>\n",
              "      <td>0,0°</td>\n",
              "      <td>440</td>\n",
              "      <td>-</td>\n",
              "      <td>-</td>\n",
              "      <td>0</td>\n",
              "      <td>No</td>\n",
              "    </tr>\n",
              "    <tr>\n",
              "      <th>Venere</th>\n",
              "      <td>1.08E+08</td>\n",
              "      <td>0.72</td>\n",
              "      <td>6051,59\\n0,9488</td>\n",
              "      <td>857</td>\n",
              "      <td>4.87E+24</td>\n",
              "      <td>5.24</td>\n",
              "      <td>8.87</td>\n",
              "      <td>1.04E+04</td>\n",
              "      <td>-243.69</td>\n",
              "      <td>61,519,726</td>\n",
              "      <td>35.02</td>\n",
              "      <td>677,323</td>\n",
              "      <td>3,39471°</td>\n",
              "      <td>177,3°</td>\n",
              "      <td>737</td>\n",
              "      <td>-</td>\n",
              "      <td>CO2, N2</td>\n",
              "      <td>0</td>\n",
              "      <td>No</td>\n",
              "    </tr>\n",
              "    <tr>\n",
              "      <th>Terra</th>\n",
              "      <td>1.50E+08</td>\n",
              "      <td>1.00</td>\n",
              "      <td>6378,15\\n1,0000</td>\n",
              "      <td>10,000</td>\n",
              "      <td>5.97E+24</td>\n",
              "      <td>5.51</td>\n",
              "      <td>9.81</td>\n",
              "      <td>1.12E+04</td>\n",
              "      <td>1.00</td>\n",
              "      <td>10,000,174</td>\n",
              "      <td>29.79</td>\n",
              "      <td>1,671,123</td>\n",
              "      <td>0,00005°</td>\n",
              "      <td>23,45°</td>\n",
              "      <td>288 - 293</td>\n",
              "      <td>288</td>\n",
              "      <td>N2, O2</td>\n",
              "      <td>1</td>\n",
              "      <td>No</td>\n",
              "    </tr>\n",
              "    <tr>\n",
              "      <th>Marte</th>\n",
              "      <td>2.28E+08</td>\n",
              "      <td>1.52</td>\n",
              "      <td>3397,00\\n0,53226</td>\n",
              "      <td>149</td>\n",
              "      <td>6.42E+23</td>\n",
              "      <td>3.94</td>\n",
              "      <td>3.71</td>\n",
              "      <td>5.02E+03</td>\n",
              "      <td>1.03</td>\n",
              "      <td>18,808,476</td>\n",
              "      <td>24.13</td>\n",
              "      <td>9,341,233</td>\n",
              "      <td>1,85061°</td>\n",
              "      <td>25,19°</td>\n",
              "      <td>186 - 268</td>\n",
              "      <td>-</td>\n",
              "      <td>CO2, N2, Ar</td>\n",
              "      <td>2</td>\n",
              "      <td>No</td>\n",
              "    </tr>\n",
              "    <tr>\n",
              "      <th>Giove</th>\n",
              "      <td>7.78E+08</td>\n",
              "      <td>5.20</td>\n",
              "      <td>71492,68\\n11,209</td>\n",
              "      <td>1316</td>\n",
              "      <td>1.90E+27</td>\n",
              "      <td>1.33</td>\n",
              "      <td>23.12</td>\n",
              "      <td>5.95E+04</td>\n",
              "      <td>0.41</td>\n",
              "      <td>11,862,615</td>\n",
              "      <td>13.07</td>\n",
              "      <td>4,839,266</td>\n",
              "      <td>1,30530°</td>\n",
              "      <td>3,12°</td>\n",
              "      <td>152</td>\n",
              "      <td>NaN</td>\n",
              "      <td>H2, He</td>\n",
              "      <td>79</td>\n",
              "      <td>Sì</td>\n",
              "    </tr>\n",
              "    <tr>\n",
              "      <th>Saturno</th>\n",
              "      <td>1.43E+09</td>\n",
              "      <td>9.54</td>\n",
              "      <td>60267,14\\n9,449</td>\n",
              "      <td>755</td>\n",
              "      <td>5.69E+26</td>\n",
              "      <td>0.70</td>\n",
              "      <td>8.96</td>\n",
              "      <td>3.55E+04</td>\n",
              "      <td>0.44</td>\n",
              "      <td>29,447,498</td>\n",
              "      <td>9.67</td>\n",
              "      <td>5,415,060</td>\n",
              "      <td>2,48446°</td>\n",
              "      <td>26,73°</td>\n",
              "      <td>143</td>\n",
              "      <td>135</td>\n",
              "      <td>H2, He</td>\n",
              "      <td>82</td>\n",
              "      <td>Sì</td>\n",
              "    </tr>\n",
              "    <tr>\n",
              "      <th>Urano</th>\n",
              "      <td>2.87E+09</td>\n",
              "      <td>19.19</td>\n",
              "      <td>25557,25\\n4,007</td>\n",
              "      <td>52</td>\n",
              "      <td>8.68E+25</td>\n",
              "      <td>1.30</td>\n",
              "      <td>8.69</td>\n",
              "      <td>2.13E+04</td>\n",
              "      <td>-0.72</td>\n",
              "      <td>84,016,846</td>\n",
              "      <td>6.84</td>\n",
              "      <td>4,716,771</td>\n",
              "      <td>0,76986°</td>\n",
              "      <td>97,86°</td>\n",
              "      <td>68</td>\n",
              "      <td>76</td>\n",
              "      <td>H2, He, CH4</td>\n",
              "      <td>27</td>\n",
              "      <td>Sì</td>\n",
              "    </tr>\n",
              "    <tr>\n",
              "      <th>Nettuno</th>\n",
              "      <td>4.50E+09</td>\n",
              "      <td>30.07</td>\n",
              "      <td>24766,36\\n3,883</td>\n",
              "      <td>44</td>\n",
              "      <td>1.02E+26</td>\n",
              "      <td>1.76</td>\n",
              "      <td>11</td>\n",
              "      <td>2.37E+04</td>\n",
              "      <td>0.67</td>\n",
              "      <td>16,479,132</td>\n",
              "      <td>5.48</td>\n",
              "      <td>858,587</td>\n",
              "      <td>1,76917°</td>\n",
              "      <td>29,58°</td>\n",
              "      <td>53</td>\n",
              "      <td>73</td>\n",
              "      <td>H2, He, CH4</td>\n",
              "      <td>14</td>\n",
              "      <td>Sì</td>\n",
              "    </tr>\n",
              "  </tbody>\n",
              "</table>\n",
              "</div>"
            ],
            "text/plain": [
              "info     Distanza media dal Sole\\nin km  ... Anelli planetari\n",
              "Mercurio                       5.79E+07  ...               No\n",
              "Venere                         1.08E+08  ...               No\n",
              "Terra                          1.50E+08  ...               No\n",
              "Marte                          2.28E+08  ...               No\n",
              "Giove                          7.78E+08  ...               Sì\n",
              "Saturno                        1.43E+09  ...               Sì\n",
              "Urano                          2.87E+09  ...               Sì\n",
              "Nettuno                        4.50E+09  ...               Sì\n",
              "\n",
              "[8 rows x 19 columns]"
            ]
          },
          "metadata": {
            "tags": []
          },
          "execution_count": 3
        }
      ]
    },
    {
      "cell_type": "code",
      "metadata": {
        "id": "W_7PDS1w8Dlc",
        "colab_type": "code",
        "outputId": "795815c7-da69-4828-efab-7f678295d502",
        "colab": {
          "base_uri": "https://localhost:8080/",
          "height": 413
        }
      },
      "source": [
        "#\n",
        "# Visualizziamo i dati\n",
        "#\n",
        "fig, ax = plt.subplots(figsize=(10,6))\n",
        "y = v = np.double(df['Velocità di fuga (m/s)'])/1000\n",
        "y = v = np.double(df['Velocità orbitale media (km/s)'])\n",
        "x = r = np.double(df['Distanza media dal Sole\\nin UA'])\n",
        "vr = np.sqrt(np.double(df['Massa (in kg)'])/r)\n",
        "\n",
        "ax.plot(x,y,'ro')\n",
        "ax.set_xlim(0,32)\n",
        "ax.set_ylim(0,60)\n",
        "ax.set_ylabel('Velocità [km/s]')\n",
        "ax.set_xlabel(r'Distanza [UA]')\n",
        "plt.title('V vs R')\n",
        "# for k in range(x.size):\n",
        "#    plt.annotate(df['info'][k], (r[k],v[k]),fontsize=12)\n",
        "plt.minorticks_on()\n",
        "#plt.grid()\n",
        "plt.tick_params(axis=\"both\", direction='in', which=\"both\", length=6, width=1, colors='k',\n",
        "                grid_color='grey', grid_alpha=0.5)\n",
        "plt.show()"
      ],
      "execution_count": 4,
      "outputs": [
        {
          "output_type": "display_data",
          "data": {
            "image/png": "[encoded data removed]",
            "text/plain": [
              "<Figure size 720x432 with 1 Axes>"
            ]
          },
          "metadata": {
            "tags": [],
            "needs_background": "light"
          }
        }
      ]
    },
    {
      "cell_type": "markdown",
      "metadata": {
        "id": "BEore7UWBrKF",
        "colab_type": "text"
      },
      "source": [
        "Un pianeta ruota attorno al sole in modo stabile quando vien bilancita la forza gravitazionle attraveso la forze centripeda\n",
        "\n",
        "$F_g = \\frac{G M_{s} m_{p}}{r^2} ; F_c = m_p \\omega^2 r$; $\\omega = \\frac{v}{r}$\n",
        "\n",
        "$ m_p (\\frac{v}{r})^2 r = \\frac{G M_{s} m_{p}}{r^2}$ \n",
        "\n",
        "$ v^2 = \\frac{G M_{s} }{r}$\n",
        "\n",
        "$v = \\sqrt{\\frac{G M_s}{r}}$\n",
        "\n",
        "G = $6.67 \\times 10^{-11}$ [N m2/kg2]\n",
        "\n",
        "$M_s$ = Massa del Sole\n",
        "\n",
        "$m_p$ = Massa Pianeta\n",
        "\n",
        "[info](http://comet.iaps.inaf.it/wp-content/uploads/2018-dispense-LeggiKeplero.pdf)\n"
      ]
    },
    {
      "cell_type": "code",
      "metadata": {
        "id": "91HUBzmrU1NF",
        "colab_type": "code",
        "colab": {}
      },
      "source": [
        "#\n",
        "# Modello terico generico per un andamento simile a quello aspettato\n",
        "#\n",
        "def vVSrm(x,m,q):\n",
        "  import numpy as np\n",
        "  return np.sqrt(m/x)+q"
      ],
      "execution_count": 0,
      "outputs": []
    },
    {
      "cell_type": "code",
      "metadata": {
        "id": "q5QnQEDiBeNj",
        "colab_type": "code",
        "outputId": "2a00b7ba-dafb-45a5-9fb6-0c0e8657e3dd",
        "colab": {
          "base_uri": "https://localhost:8080/",
          "height": 35
        }
      },
      "source": [
        "#\n",
        "# esguiamo il fit con la funzione che abbiamo scelto come modello con i minimi quadrati\n",
        "# https://it.wikipedia.org/wiki/Metodo_dei_minimi_quadrati\n",
        "# \n",
        "par, cov = curve_fit(vVSrm, x, y, p0=[0.01,0])\n",
        "err  = np.sqrt(np.diag(cov))\n",
        "r2   = r2_score(y , vVSrm(x, *par)) # https://it.wikipedia.org/wiki/Coefficiente_di_determinazione\n",
        "chi2 = chisquare(y, vVSrm(x, *par)) # https://it.wikipedia.org/wiki/Test_chi_quadrato\n",
        "print(r'p0 = {0:.2f} ± {1:.2f} p1 = {2:.1f} ± {3:.1f} r2 = {4:.4f} chi2 = {5:.5f}'.format(par[0], err[0], par[1], err[1], r2, chi2[0]))\n",
        "#print (r2, chi2, par)"
      ],
      "execution_count": 6,
      "outputs": [
        {
          "output_type": "stream",
          "text": [
            "p0 = 874.50 ± 2.98 p1 = 0.1 ± 0.0 r2 = 1.0000 chi2 = 0.00100\n"
          ],
          "name": "stdout"
        }
      ]
    },
    {
      "cell_type": "code",
      "metadata": {
        "id": "0rLAtDSoG4Wq",
        "colab_type": "code",
        "outputId": "68a2ceaa-b38c-4125-817d-a8d2dbf8bbd4",
        "colab": {
          "base_uri": "https://localhost:8080/",
          "height": 413
        }
      },
      "source": [
        "fig, ax = plt.subplots(figsize=(10,6))\n",
        "\n",
        "y = v = np.double(df['Velocità orbitale media (km/s)'])\n",
        "x = r = np.double(df['Distanza media dal Sole\\nin UA'])\n",
        "\n",
        "ax.plot(x,y,'ro', label='data')\n",
        "\n",
        "x=np.linspace(0.1,40,100)\n",
        "ax.plot(x,vVSrm(x, *par), 'k--',\n",
        "        label='m = {0:.2f}±{1:.2f} \\nq = {2:.1f}±{3:.1f} \\nr2 = {4:.4f}'.format(par[0], err[0], par[1], err[1], r2))\n",
        "#ax.plot(r,vVSrm(r,m))\n",
        "ax.set_ylabel('Velocità [km/s]')\n",
        "ax.set_xlabel(r'Distanza [UA]')\n",
        "ax.set_xlim(0,32)\n",
        "ax.set_ylim(0,60)\n",
        "plt.title('V vs R')\n",
        "plt.minorticks_on()\n",
        "plt.grid()\n",
        "plt.tick_params(axis=\"both\", direction='in', which=\"both\", length=6, width=1, colors='k',\n",
        "               grid_color='grey', grid_alpha=0.5)\n",
        "plt.legend()\n",
        "plt.show()"
      ],
      "execution_count": 7,
      "outputs": [
        {
          "output_type": "display_data",
          "data": {
            "image/png": "[encoded data removed]",
            "text/plain": [
              "<Figure size 720x432 with 1 Axes>"
            ]
          },
          "metadata": {
            "tags": [],
            "needs_background": "light"
          }
        }
      ]
    },
    {
      "cell_type": "code",
      "metadata": {
        "id": "1C8Dgj-EHqOR",
        "colab_type": "code",
        "outputId": "c9a2a6e4-21d3-4d19-ab28-0f3bfb089ad2",
        "colab": {
          "base_uri": "https://localhost:8080/",
          "height": 35
        }
      },
      "source": [
        "# 1,989 × 10^30 kg\n",
        "M = (874.50/6.67e-11)*1.496e+11*(1e3)**2 # UA vs m, km^2 vs m^2\n",
        "Merr = (2.98/6.67e-11)*1.496e+11*(1e3)**2\n",
        "print ('M_s = {0:.4e} ± {1:.1e}'.format(M, Merr))"
      ],
      "execution_count": 8,
      "outputs": [
        {
          "output_type": "stream",
          "text": [
            "M_s = 1.9614e+30 ± 6.7e+27\n"
          ],
          "name": "stdout"
        }
      ]
    },
    {
      "cell_type": "markdown",
      "metadata": {
        "id": "GShPTWlFKzZ2",
        "colab_type": "text"
      },
      "source": [
        "**per stimare le velocita' quando non \"vediamo direttamnte\" usiamo l'effetto doppler**\n",
        "\n",
        "![alt text](http://www.amastrofili.org/Doc/Articoli/2008/Spettroscopia/anim0901.gif)\n",
        "\n",
        "**ma se guradiamo alla Rotazione dele Galassie noi non vediamo un decadimento della velocita' come con i pianeti del nostro sistema solare...**\n",
        "\n",
        "![alt text](http://w3.lnf.infn.it/wp-content/uploads/2018/01/1CR_web-768x465.jpg)"
      ]
    },
    {
      "cell_type": "markdown",
      "metadata": {
        "id": "s1HrfpMenIvr",
        "colab_type": "text"
      },
      "source": [
        "\n",
        "$v = \\sqrt{\\frac{G M(r)}{r}}$\n",
        "\n",
        "$  M(r) = 4 \\pi \\int \\rho (r)~r^2 ~dr$ \n",
        "\n",
        "---\n",
        "\n",
        "\n",
        "G = $6.67 \\times 10^{-11}$ [N m2/kg2]\n",
        "\n",
        "$M(r)$ = Massa Galassia\n",
        "\n"
      ]
    },
    {
      "cell_type": "code",
      "metadata": {
        "id": "RKKItiX8aUX-",
        "colab_type": "code",
        "colab": {}
      },
      "source": [
        ""
      ],
      "execution_count": 0,
      "outputs": []
    }
  ]
}