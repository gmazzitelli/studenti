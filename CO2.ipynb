{
  "nbformat": 4,
  "nbformat_minor": 0,
  "metadata": {
    "colab": {
      "name": "CO2.ipynb",
      "provenance": [],
      "collapsed_sections": [],
      "authorship_tag": "ABX9TyNwEO0RWlu9lFXzL2Fcq7z0",
      "include_colab_link": true
    },
    "kernelspec": {
      "name": "python3",
      "display_name": "Python 3"
    }
  },
  "cells": [
    {
      "cell_type": "markdown",
      "metadata": {
        "id": "view-in-github",
        "colab_type": "text"
      },
      "source": [
        "<a href=\"https://colab.research.google.com/github/gmazzitelli/studenti/blob/master/CO2.ipynb\" target=\"_parent\"><img src=\"https://colab.research.google.com/assets/colab-badge.svg\" alt=\"Open In Colab\"/></a>"
      ]
    },
    {
      "cell_type": "markdown",
      "metadata": {
        "id": "6aSXhEOnztOG"
      },
      "source": [
        "**CO2**\n",
        "\n",
        "\n",
        "---\n",
        "\n",
        "\n",
        "Caloclo di quanti anni sono necessari per ammortizzare le emissioni di una autovertura rispetto a non cambiarla (Caddy life euro4 disel), comprarla elettrca o disel euro6d"
      ]
    },
    {
      "cell_type": "markdown",
      "metadata": {
        "id": "DFSTFI-C3rDT"
      },
      "source": [
        ""
      ]
    },
    {
      "cell_type": "code",
      "metadata": {
        "id": "nZY0RLN1zUVJ",
        "colab": {
          "base_uri": "https://localhost:8080/",
          "height": 293
        },
        "outputId": "c03b826b-8dd2-45ba-fe1e-fefd71bb5462"
      },
      "source": [
        "import numpy as np\n",
        "import matplotlib.pyplot as plt\n",
        "plt.style.use('fast')\n",
        "plt.rc('font', size = 14, family ='Sans-Serif')\n",
        "euro4  = 173 # g/km (voce V7 del mio libretto)\n",
        "euro6d = 95 # g/km\n",
        "# https://www.gazzetta.it/motori/la-mia-auto/31-12-2019/emissioni-auto-moto-inizia-l-era-dell-euro-6d-standard-dell-euro-5-3502312498475.shtml\n",
        "elettrico = 120*0.55 # g/km \n",
        "# https://www.qualenergia.it/articoli/auto-elettriche-e-diesel-confronto-su-emissioni-co2-e-inquinanti/\n",
        "offset_elttrico = 8.8\n",
        "offset_euro6d   = 5.6\n",
        "# https://www.europarl.europa.eu/news/en/headlines/society/20190313STO31218/co2-emissions-from-cars-facts-and-figures-infographics\n",
        "# https://www.lowcvp.org.uk/assets/workingdocuments/MC-P-11-15a%20Lifecycle%20emissions%20report.pdf \n",
        "anni = np.linspace(0, 20, 21)\n",
        "km   = 10000 # percorrenza media annua\n",
        "plt.plot(anni, offset_elttrico+elettrico*anni*km/1e6, 'g-', label='elettrico')\n",
        "plt.plot(anni, offset_euro6d+euro6d*anni*km/1e6, 'r-', label='euro6')\n",
        "plt.plot(anni, anni*euro4*km/1e6, 'b-', label='euro4')\n",
        "plt.xlim(0,20)\n",
        "plt.ylim(0,40)\n",
        "plt.legend()\n",
        "plt.ylabel('CO2e [Tonnelate]')\n",
        "plt.xlabel('Anni')\n",
        "plt.show()"
      ],
      "execution_count": 2,
      "outputs": [
        {
          "output_type": "display_data",
          "data": {
            "image/png": "[encoded data removed]",
            "text/plain": [
              "<Figure size 432x288 with 1 Axes>"
            ]
          },
          "metadata": {
            "tags": [],
            "needs_background": "light"
          }
        }
      ]
    },
    {
      "cell_type": "markdown",
      "metadata": {
        "id": "BvIjdCV-3sUx"
      },
      "source": [
        "\n",
        "\n",
        "---\n",
        "costo consumo disel/elettrco\n"
      ]
    },
    {
      "cell_type": "code",
      "metadata": {
        "id": "GoZFAnvizqMw",
        "colab": {
          "base_uri": "https://localhost:8080/"
        },
        "outputId": "8390a300-b21e-4a2c-f18d-84a6895e3b72"
      },
      "source": [
        "consumo_elttrico = 13.5 # kWh/100km\n",
        "# https://it.motor1.com/features/262190/consumo-auto-elettrica-tutte-le-risposte/\n",
        "consumo_disel    = 5    # litri/100km\n",
        "costo_disel      = 1.4  # euro/litro\n",
        "costo_elttrico   = 0.4  # euro/kWh\n",
        "print(\"costo disel: {:.1f} euro per 100km\".format(costo_disel*consumo_disel))\n",
        "print(\"costo elettrico: {:.1f} euro per 100km\".format(consumo_elttrico*costo_elttrico))\n",
        "costo_elttrico   = 0.79  # euro/kWh\n",
        "print(\"costo elettrico: {:.1f} euro per 100km\".format(consumo_elttrico*costo_elttrico))\n"
      ],
      "execution_count": null,
      "outputs": [
        {
          "output_type": "stream",
          "text": [
            "costo disel: 7.0 euro per 100km\n",
            "costo elettrico: 5.4 euro per 100km\n",
            "costo elettrico: 10.7 euro per 100km\n"
          ],
          "name": "stdout"
        }
      ]
    },
    {
      "cell_type": "code",
      "metadata": {
        "id": "anXZeVum2oQ2",
        "colab": {
          "base_uri": "https://localhost:8080/"
        },
        "outputId": "2c9dfcbf-2a2c-4b91-ca22-681e82bb25c6"
      },
      "source": [
        "100*300/13.5 #kWh"
      ],
      "execution_count": null,
      "outputs": [
        {
          "output_type": "execute_result",
          "data": {
            "text/plain": [
              "2222.222222222222"
            ]
          },
          "metadata": {
            "tags": []
          },
          "execution_count": 8
        }
      ]
    },
    {
      "cell_type": "code",
      "metadata": {
        "id": "cykIMhmTMifb",
        "colab": {
          "base_uri": "https://localhost:8080/"
        },
        "outputId": "59b4e4e8-d3b3-412f-e7b9-860eea94ef3f"
      },
      "source": [
        "# costo medio di ricarica\n",
        "# https://www-newsauto-it.cdn.ampproject.org/c/s/www.newsauto.it/guide/auto-elettrica-quanto-costa-ricaricare-e-quanto-consuma-costo-corrente-energia-elettrica-ev-2020-243194/amp/,che\n",
        "(0.1+0.79)/2"
      ],
      "execution_count": null,
      "outputs": [
        {
          "output_type": "execute_result",
          "data": {
            "text/plain": [
              "0.445"
            ]
          },
          "metadata": {
            "tags": []
          },
          "execution_count": 9
        }
      ]
    },
    {
      "cell_type": "code",
      "metadata": {
        "id": "lW7xBXAxQENB",
        "colab": {
          "base_uri": "https://localhost:8080/"
        },
        "outputId": "8e6f5acf-c896-42b8-bb58-122bb353bd20"
      },
      "source": [
        "# tariffe https://dufercoenergia.com/e-mobility/\n",
        "t1,k1,kwh1 = 40*1.22, 600, 100\n",
        "t2,k2,kwh2 = 75*1.22, 1200, 200\n",
        "t3,k3,kwh3 = 140*1.22, 2400, 400\n",
        "# tariffa flat\n",
        "print('costi disel {:.2f} euro/km, elterrico {:.2f} euro/km'.format(70/800, t1/k1))\n",
        "print('elterrico {:.2f} euro/km'.format(25*1.22/1800))"
      ],
      "execution_count": null,
      "outputs": [
        {
          "output_type": "stream",
          "text": [
            "costi disel 0.09 euro/km, elterrico 0.08 euro/km\n",
            "elterrico 0.02 euro/km\n"
          ],
          "name": "stdout"
        }
      ]
    },
    {
      "cell_type": "code",
      "metadata": {
        "colab": {
          "base_uri": "https://localhost:8080/",
          "height": 275
        },
        "id": "U-yYIUsOeq0b",
        "outputId": "de9d9522-7e98-43b5-bfe1-074642a8e6a3"
      },
      "source": [
        "x = np.array([1990, 2000, 2010, 2016, 2019])\n",
        "y = np.array([22698, 25119, 33132, 35220, 36441])\n",
        "x30 = np.array([2030])\n",
        "y30 = np.array([16500])\n",
        "plt.plot(x,y, 'r*', label='$MtCO_2$')\n",
        "plt.plot(x30,y30, 'g*')\n",
        "plt.xlim(1980, 2040)\n",
        "plt.ylim(10000, 40000)\n",
        "plt.legend(loc=2)\n",
        "plt.show()"
      ],
      "execution_count": null,
      "outputs": [
        {
          "output_type": "display_data",
          "data": {
            "image/png": "[encoded data removed]",
            "text/plain": [
              "<Figure size 432x288 with 1 Axes>"
            ]
          },
          "metadata": {
            "tags": [],
            "needs_background": "light"
          }
        }
      ]
    },
    {
      "cell_type": "code",
      "metadata": {
        "id": "DVw1VcpAfOvw"
      },
      "source": [
        ""
      ],
      "execution_count": null,
      "outputs": []
    }
  ]
}