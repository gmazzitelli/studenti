{
  "nbformat": 4,
  "nbformat_minor": 0,
  "metadata": {
    "colab": {
      "name": "esempio1_fit_popolazioneIT.ipynb",
      "provenance": [],
      "authorship_tag": "ABX9TyNnTNsnOOVl356hOZHCF83V",
      "include_colab_link": true
    },
    "kernelspec": {
      "name": "python3",
      "display_name": "Python 3"
    }
  },
  "cells": [
    {
      "cell_type": "markdown",
      "metadata": {
        "id": "view-in-github",
        "colab_type": "text"
      },
      "source": [
        "<a href=\"https://colab.research.google.com/github/gmazzitelli/studenti/blob/master/esempio1_fit_popolazioneIT.ipynb\" target=\"_parent\"><img src=\"https://colab.research.google.com/assets/colab-badge.svg\" alt=\"Open In Colab\"/></a>"
      ]
    },
    {
      "cell_type": "markdown",
      "metadata": {
        "id": "UszpaCzW7_Z7",
        "colab_type": "text"
      },
      "source": [
        "![metrodo scintifico](https://3.bp.blogspot.com/-srz1XJ37dE8/VgwypJp1xAI/AAAAAAAAJG0/BDSVcwHW2MQ/s1600/Metodo-Scientifico01-mini.jpg)\n",
        "**Introduzione**\n",
        "\n",
        "1.   ossevazione: raccolta dai dati (decisione, quali e come);\n",
        "2.   ipotesi: modello matematico (decisione);\n",
        "3.   verifica: contronto del modello con i dati;\n",
        "4.   predizione: quando, dove, come...\n",
        "\n",
        "**Strumento**\n",
        "\n",
        "1.   notebook, jupyter, colab: https://colab.research.google.com/\n",
        "2.   python (root, C, LabView...): https://www.python.org/\n",
        "\n",
        "\n"
      ]
    },
    {
      "cell_type": "code",
      "metadata": {
        "id": "gCt6QYPV8iDy",
        "colab_type": "code",
        "colab": {}
      },
      "source": [
        "#\n",
        "# inzializzazione delle funzioni (librerie) usate nel notebook\n",
        "#\n",
        "import pandas as pd\n",
        "import numpy as np\n",
        "import matplotlib.pyplot as plt\n",
        "from scipy.optimize import curve_fit\n",
        "from sklearn.metrics import r2_score\n",
        "from scipy.stats import chisquare\n",
        "plt.rc('font', size = 14, family ='Sans-Serif')"
      ],
      "execution_count": 0,
      "outputs": []
    },
    {
      "cell_type": "code",
      "metadata": {
        "id": "8_jGbDS1G742",
        "colab_type": "code",
        "colab": {}
      },
      "source": [
        "# caricamento dati raccolti (popolazione italiana 2018)\n",
        "url_csv_file = \"https://docs.google.com/spreadsheet/ccc?key=1qL5B_J6eV6bD9zicR0YsCIaUMU0BhTdSTrqC1UcDBI8&output=csv\"\n",
        "df = pd.read_csv(url_csv_file)\n",
        "print(df)\n",
        "print('\\n')\n",
        "print ('Popolazione: {0:.1f} [M], Superficie: {1:.1f} [km^2], Densità: {2:.1f}'.format(\n",
        "    df['Popolazione'].sum()/1000, df['Superficie'].sum()/1000, df['Popolazione'].sum()/df['Superficie'].sum()))"
      ],
      "execution_count": 0,
      "outputs": []
    },
    {
      "cell_type": "code",
      "metadata": {
        "id": "eP51XbVN70B9",
        "colab_type": "code",
        "colab": {}
      },
      "source": [
        "#\n",
        "# Visualizziamo i dati\n",
        "#\n",
        "fig, ax = plt.subplots(figsize=(10,6))\n",
        "x = df['Superficie']/1000\n",
        "y = df['Popolazione']/1000\n",
        "ax.plot(x,y,'ro')\n",
        "# ax.set_xlim(0,30)\n",
        "# ax.set_ylim(0,12)\n",
        "# ax.set_xlabel('Superficie [$km^2$]')\n",
        "# ax.set_ylabel(r'Popolazione [$\\times 10^6$]')\n",
        "# plt.title('Densità Popolazione Italiana')\n",
        "# for k in range(x.size):\n",
        "#   plt.annotate(df['Regione'][k], (x[k],y[k]),fontsize=12)\n",
        "# plt.minorticks_on()\n",
        "# plt.grid()\n",
        "# plt.tick_params(axis=\"both\", direction='in', which=\"both\", length=6, width=1, colors='k',\n",
        "#                grid_color='grey', grid_alpha=0.5)\n",
        "plt.show()"
      ],
      "execution_count": 0,
      "outputs": []
    },
    {
      "cell_type": "code",
      "metadata": {
        "id": "QNrX2r56HNdf",
        "colab_type": "code",
        "colab": {}
      },
      "source": [
        "#\n",
        "# definisco il modello (lineare) \n",
        "#\n",
        "def Line(x, m, q):\n",
        "    import numpy as np\n",
        "    return m*x + q"
      ],
      "execution_count": 0,
      "outputs": []
    },
    {
      "cell_type": "code",
      "metadata": {
        "id": "7c0dyrEAHXAD",
        "colab_type": "code",
        "colab": {}
      },
      "source": [
        "#\n",
        "# esguiamo il fit con la funzione che abbiamo scelto come modello con i minimi quadrati\n",
        "# https://it.wikipedia.org/wiki/Metodo_dei_minimi_quadrati\n",
        "# \n",
        "par, cov = curve_fit(Line,x, y, p0=[1,0])\n",
        "err  = np.sqrt(np.diag(cov))\n",
        "r2   = r2_score(y , Line(x, *par)) # https://it.wikipedia.org/wiki/Coefficiente_di_determinazione\n",
        "chi2 = chisquare(y, Line(x, *par)) # https://it.wikipedia.org/wiki/Test_chi_quadrato\n",
        "print(r'm = {0:.2f}±{1:.2f} q = {2:.1f}±{3:.1f} r2 = {4:.4f} chi2 = {5:.2f}'.format(\n",
        "    par[0], err[0], par[1], err[1], r2, chi2[0]))"
      ],
      "execution_count": 0,
      "outputs": []
    },
    {
      "cell_type": "code",
      "metadata": {
        "id": "42DEviW1IUPH",
        "colab_type": "code",
        "colab": {}
      },
      "source": [
        "#\n",
        "# Visualizziamo il risulatato\n",
        "#\n",
        "fig, ax = plt.subplots(figsize=(10,6))\n",
        "ax.plot(x,y,'ro', label='dati regioni')\n",
        "ax.plot(x,Line(x, *par), 'k-', \n",
        "        label='m = {0:.2f}±{1:.2f} \\nq = {2:.1f}±{3:.1f} \\nr2 = {4:.4f}'.format(par[0], err[0], par[1], err[1], r2))\n",
        "ax.set_xlim(0,30)\n",
        "ax.set_ylim(0,12)\n",
        "ax.set_xlabel('Superficie [$km^2$]')\n",
        "ax.set_ylabel(r'Popolazione [$\\times 10^6$]')\n",
        "plt.title('Densità Popolazione Italiana')\n",
        "plt.minorticks_on()\n",
        "plt.grid()\n",
        "plt.tick_params(axis=\"both\", direction='in', which=\"both\", length=6, width=1, colors='k',\n",
        "               grid_color='grey', grid_alpha=0.5)\n",
        "plt.legend()\n",
        "plt.show()"
      ],
      "execution_count": 0,
      "outputs": []
    },
    {
      "cell_type": "code",
      "metadata": {
        "id": "jIEHe3E0UiK3",
        "colab_type": "code",
        "colab": {}
      },
      "source": [
        "fig, ax = plt.subplots(2,2,figsize=(15,10))\n",
        "x = df['Superficie']/1000\n",
        "y = df['Comuni']\n",
        "ax[0,0].set_xlabel('Superficie [$km^2$]')\n",
        "ax[0,0].set_ylabel('Comuni')\n",
        "ax[0,0].plot(x,y,'ro')\n",
        "x = df['Superficie']/1000\n",
        "y = df['Province']\n",
        "ax[0,1].set_xlabel('Superficie [$km^2$]')\n",
        "ax[0,1].set_ylabel('Province')\n",
        "ax[0,1].plot(x,y,'ro')\n",
        "x = df['Popolazione']/1000\n",
        "y = df['Comuni']\n",
        "ax[1,0].set_xlabel(r'Popolazione [$\\times 10^6$]')\n",
        "ax[1,0].set_ylabel('Comuni')\n",
        "ax[1,0].plot(x,y,'ro')\n",
        "x = df['Popolazione']/1000\n",
        "y = df['Province']\n",
        "ax[1,1].set_xlabel(r'Popolazione [$\\times 10^6$]')\n",
        "ax[1,1].set_ylabel('Province')\n",
        "ax[1,1].plot(x,y,'ro')\n",
        "plt.show()"
      ],
      "execution_count": 0,
      "outputs": []
    },
    {
      "cell_type": "markdown",
      "metadata": {
        "id": "-ucS0JFBRTHB",
        "colab_type": "text"
      },
      "source": [
        "**Precauzioni!**\n",
        "\n",
        "esitono vari modi di fare i fit, e anche in questo e' necessario decidere!\n",
        "![alt text](https://camo.githubusercontent.com/732f5f5631f683f7da87f3489d4767ff6afe2315/687474703a2f2f6372736f757a612e636f6d2f77702d636f6e74656e742f75706c6f6164732f323031302f30362f72616e736163385f7468756d622e706e67)\n",
        "\n",
        "i minimi quadrati, e' il metoto piu' comune ma puo' sbagliare \n",
        "per questo si usano anche altri metodi che ottimizziano cio' che cerchimao come ad esempio RANSAC https://scikit-learn.org/stable/auto_examples/linear_model/plot_ransac.html e piu' in generale il Machine Leaning"
      ]
    },
    {
      "cell_type": "code",
      "metadata": {
        "id": "7C-x2vKlHq5K",
        "colab_type": "code",
        "colab": {}
      },
      "source": [
        "# def Gauss3(x, a0, x0, s0):\n",
        "    import numpy as np\n",
        "    return a0 * np.exp(-(x - x0)**2 / (2 * s0**2))\n",
        "\n",
        "def test_chi2(y, fy, stdev):\n",
        "    r = y - fy\n",
        "    chi2 = np.sum((r/stdev)**2)\n",
        "    return chi2\n",
        "#\n",
        "# chi2, p = chisquare(y, function(x), gradi)\n",
        "#"
      ],
      "execution_count": 0,
      "outputs": []
    }
  ]
}